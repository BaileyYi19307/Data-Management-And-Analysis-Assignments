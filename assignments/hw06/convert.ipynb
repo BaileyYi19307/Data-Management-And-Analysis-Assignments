{
 "cells": [
  {
   "cell_type": "code",
   "execution_count": null,
   "metadata": {},
   "outputs": [],
   "source": [
    "import pandas as pd\n",
    "\n",
    "# read the squirrel dataset\n",
    "df = pd.read_csv(\"../data/raw/2018_Central_Park_Squirrel_Census_-_Squirrel_Data_20250227.csv\")\n",
    "\n",
    "# keep only selected columns\n",
    "df = df[[\"Primary Fur Color\", \"Above Ground Sighter Measurement\", \"Date\", \"X\", \"Y\", \"Location\"]]\n",
    "\n",
    "# rename 'location' column to 'aboveorbelowground' for clarity\n",
    "df = df.rename({'Location': 'AboveOrBelowGround'}, axis=1)\n",
    "\n",
    "# rename 'x' and 'y' to 'longitude' and 'latitude'\n",
    "df = df.rename({'X': 'Longitude'}, axis=1)\n",
    "df = df.rename({'Y': 'Latitude'}, axis=1)\n",
    "\n",
    "# convert all 'FALSE' string values in above ground sighter measurement column to 0 since that means they are not above ground\n",
    "df.loc[df[\"Above Ground Sighter Measurement\"] == \"FALSE\", \"Above Ground Sighter Measurement\"] = 0\n",
    "\n",
    "# convert date column to datetime format\n",
    "df[\"Date\"] = pd.to_datetime(df[\"Date\"], format=\"%m%d%Y\")\n",
    "\n",
    "# save the cleaned dataframe to a new csv file\n",
    "df.to_csv(\"../squirrel_census.csv\", index=False)"
   ]
  },
  {
   "cell_type": "code",
   "execution_count": null,
   "metadata": {},
   "outputs": [],
   "source": []
  }
 ],
 "metadata": {
  "language_info": {
   "name": "python"
  }
 },
 "nbformat": 4,
 "nbformat_minor": 2
}
